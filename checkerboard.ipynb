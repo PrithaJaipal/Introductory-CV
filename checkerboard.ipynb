{
  "nbformat": 4,
  "nbformat_minor": 0,
  "metadata": {
    "colab": {
      "provenance": [],
      "authorship_tag": "ABX9TyPXEsnKPtNDpDEfQPDyQBMd",
      "include_colab_link": true
    },
    "kernelspec": {
      "name": "python3",
      "display_name": "Python 3"
    },
    "language_info": {
      "name": "python"
    }
  },
  "cells": [
    {
      "cell_type": "markdown",
      "metadata": {
        "id": "view-in-github",
        "colab_type": "text"
      },
      "source": [
        "<a href=\"https://colab.research.google.com/github/PrithaJaipal/Introductory-CV/blob/main/checkerboard.ipynb\" target=\"_parent\"><img src=\"https://colab.research.google.com/assets/colab-badge.svg\" alt=\"Open In Colab\"/></a>"
      ]
    },
    {
      "cell_type": "code",
      "execution_count": 3,
      "metadata": {
        "id": "G0YvLoJGXofn"
      },
      "outputs": [],
      "source": [
        "import numpy, cv2\n",
        "width = 400\n",
        "eighth = int(width/8)"
      ]
    },
    {
      "cell_type": "code",
      "source": [
        "#black board\n",
        "board = numpy.zeros([width,width,3])\n",
        "#white squares\n",
        "whitesquare = numpy.ones([eighth, eighth]) * 255"
      ],
      "metadata": {
        "id": "U-5set6OX2zG"
      },
      "execution_count": 4,
      "outputs": []
    },
    {
      "cell_type": "code",
      "source": [
        "for row in range(8):\n",
        "  for col in range(8):\n",
        "    if ((row % 2)==(col % 2)):\n",
        "      srow = row * eighth\n",
        "      erow = srow + eighth\n",
        "      scol = col * eighth\n",
        "      ecol = scol + eighth\n",
        "      board[srow:erow, scol:ecol, 0] = whitesquare\n",
        "      board[srow:erow, scol:ecol, 1] = whitesquare\n",
        "      board[srow:erow, scol:ecol, 2] = whitesquare\n",
        "\n",
        "cv2.imwrite('checkerboard.jpg', board)\n",
        "cv2.waitKey(0)\n",
        "\n"
      ],
      "metadata": {
        "colab": {
          "base_uri": "https://localhost:8080/"
        },
        "id": "mwVSCsRlaWTC",
        "outputId": "b9fe794c-a884-481f-db47-838a6ecf52d7"
      },
      "execution_count": 5,
      "outputs": [
        {
          "output_type": "execute_result",
          "data": {
            "text/plain": [
              "-1"
            ]
          },
          "metadata": {},
          "execution_count": 5
        }
      ]
    },
    {
      "cell_type": "code",
      "source": [
        "from google.colab.patches import cv2_imshow\n",
        "cv2_imshow(board)\n"
      ],
      "metadata": {
        "colab": {
          "base_uri": "https://localhost:8080/",
          "height": 417
        },
        "id": "6dgiGAWSZU_h",
        "outputId": "30a545be-c217-44e9-ca93-6d8f9d0ff2b5"
      },
      "execution_count": 7,
      "outputs": [
        {
          "output_type": "display_data",
          "data": {
            "text/plain": [
              "<PIL.Image.Image image mode=RGB size=400x400>"
            ],
            "image/png": "[encoded data removed]"
          },
          "metadata": {}
        }
      ]
    },
    {
      "cell_type": "code",
      "source": [],
      "metadata": {
        "id": "rFVudeYxIG9H"
      },
      "execution_count": null,
      "outputs": []
    }
  ]
}